{
 "cells": [
  {
   "cell_type": "markdown",
   "metadata": {},
   "source": [
    "# Worksheet 6"
   ]
  },
  {
   "cell_type": "markdown",
   "metadata": {},
   "source": [
    "## Overview\n",
    "The workshop for Week 7 will start with a tutorial on Quicksort, and you will implement a Hash Function / Hash Table.\n",
    "\n",
    "## Tutorial Questions\n",
    "**Question 6.1** You are asked to show the operation of quicksort on the following keys. For simplicity, use the rightmost element as the partition element:\n",
    "- 2 3 97 23 15 21 4 23 29 37 5 23\n",
    "Comment on the stability of quicksort and its behaviour on almost sorted inputs.\n",
    "\n",
    "## Programming Exercises\n",
    "**Programming 6.1** Implementing a hash table will help you understand how it works. In this laboratory, you are asked to implement an open addressing hash table that uses linear probing for collision resolution. In the interests of simplicity, and to help you implement the hash table quickly, you can simply store integers (keys), keep the table very small (suggested size 13, why?), and use a very simple hash function, e.g. ``f(key) = (key*97)%13``. Implement a function *printTable(ht)*, so that you can check what is in the hash table at every step. Remember that you will get a segmentation fault if you try to print a *NULL* value, so wrap the printing within a conditional statement that test for *NULL*.\n",
    "\n",
    "Because the table is small, you can engineer collisions. Check what happens when you get a collision, then when you get two collisions, etc. Think about how you could handle the situation where the table is almost full - How nearly full are you going to let it get? Could you expand the table? If you expand the table, what will happen to the items that are already in the table?\n",
    "\n",
    "Programming 5.2's material may be useful for reference if you get stuck, though it does not handle unresolvable collisions well. Likewise, not worrying about polymorphism may save you some time and confusion."
   ]
  },
  {
   "cell_type": "code",
   "execution_count": null,
   "metadata": {},
   "outputs": [],
   "source": [
    "#include <stdio.h>\n",
    "#include <stdlib.h>\n",
    "\n",
    "#define INPUTSIZE 14\n",
    "\n",
    "/* Declare hash table data structure */\n",
    "\n",
    "/* Write insert function */\n",
    "\n",
    "/* Write printTable function. */\n",
    "\n",
    "/* Write freeTable function. */\n",
    "\n",
    "int main(int argc, char **argv){\n",
    "    \n",
    "    int inputs[INPUTSIZE] = {2, 3, 97, 23, 15, 21, 4, 23, 29, 37, 5, 23, 28, 40};\n",
    "    \n",
    "    /* Declare table. */\n",
    "    \n",
    "    int i;\n",
    "    \n",
    "    /* Create empty table. */\n",
    "    printf(\"Created hash table of size 13\\n\");\n",
    "    printTable(/* table */);\n",
    "    \n",
    "    for(i = 0; i < INPUTSIZE; i++){\n",
    "        printf(\"Inserting %d\\n\",inputs[i]);\n",
    "        insert(/* table */, inputs[i]);\n",
    "        printTable(/* table */);\n",
    "    }\n",
    "    printf(\"Finished inserting items into table\\n\");\n",
    "    \n",
    "    freeTable(/* Table */);\n",
    "    \n",
    "    return 0;\n",
    "}"
   ]
  }
 ],
 "metadata": {
  "kernelspec": {
   "display_name": "C",
   "language": "c",
   "name": "jupyter_c_kernel"
  },
  "language_info": {
   "file_extension": ".c",
   "mimetype": "text/plain",
   "name": "c"
  }
 },
 "nbformat": 4,
 "nbformat_minor": 2
}
